{
 "cells": [
  {
   "cell_type": "code",
   "execution_count": 1,
   "metadata": {},
   "outputs": [
    {
     "name": "stdout",
     "output_type": "stream",
     "text": [
      "6887\n",
      "456\n",
      "6123\n"
     ]
    }
   ],
   "source": [
    "import pandas as pd\n",
    "\n",
    "#必要な対象者データ・除外データ・宛名データを取り込む。その後それぞれの行数を表示\n",
    "df = pd.read_csv('C:/Users/otani/Desktop/exclude_work/Ex.2/analays.csv')\n",
    "ex = pd.read_csv('C:/Users/otani/Desktop/exclude_work/Ex.2/ex_list.csv')\n",
    "tar = pd.read_csv('C:/Users/otani/Desktop/exclude_work/Ex.2/tar_list.csv')\n",
    "print(len(df))\n",
    "print(len(ex))\n",
    "print(len(tar))"
   ]
  },
  {
   "cell_type": "code",
   "execution_count": 2,
   "metadata": {},
   "outputs": [
    {
     "data": {
      "text/plain": [
       "6431"
      ]
     },
     "execution_count": 2,
     "metadata": {},
     "output_type": "execute_result"
    }
   ],
   "source": [
    "#全てキー共通。除外\n",
    "ex1 = df[~df['id'].isin(ex['id'])]\n",
    "len(ex1)"
   ]
  },
  {
   "cell_type": "code",
   "execution_count": 3,
   "metadata": {},
   "outputs": [
    {
     "data": {
      "text/plain": [
       "5710"
      ]
     },
     "execution_count": 3,
     "metadata": {},
     "output_type": "execute_result"
    }
   ],
   "source": [
    "#抽出\n",
    "forwarder_list = ex1[ex1['id'].isin(tar['id'])]\n",
    "#発送者リストの行数表示\n",
    "len(forwarder_list)"
   ]
  },
  {
   "cell_type": "code",
   "execution_count": 4,
   "metadata": {},
   "outputs": [
    {
     "data": {
      "text/plain": [
       "set()"
      ]
     },
     "execution_count": 4,
     "metadata": {},
     "output_type": "execute_result"
    }
   ],
   "source": [
    "#発送者データと除外データに共通のidが含まれていないか確認\n",
    "set(forwarder_list['id']) & set(ex['id'])"
   ]
  },
  {
   "cell_type": "code",
   "execution_count": 5,
   "metadata": {},
   "outputs": [
    {
     "data": {
      "text/plain": [
       "set()"
      ]
     },
     "execution_count": 5,
     "metadata": {},
     "output_type": "execute_result"
    }
   ],
   "source": [
    "set(forwarder_list['id']).intersection(set(ex['id']))"
   ]
  },
  {
   "cell_type": "code",
   "execution_count": 6,
   "metadata": {},
   "outputs": [
    {
     "data": {
      "text/plain": [
       "True"
      ]
     },
     "execution_count": 6,
     "metadata": {},
     "output_type": "execute_result"
    }
   ],
   "source": [
    "#発送者データが宛名データに全て含まれているか確認\n",
    "set(forwarder_list['id']) <= set(tar['id'])"
   ]
  },
  {
   "cell_type": "code",
   "execution_count": 9,
   "metadata": {},
   "outputs": [],
   "source": [
    "#forwarderとして発送者リストを保存\n",
    "forwarder_list.to_csv('C:/Users/otani/Desktop/exclude_work/Ex.2/forwarder_list.csv')"
   ]
  },
  {
   "cell_type": "code",
   "execution_count": null,
   "metadata": {},
   "outputs": [],
   "source": []
  }
 ],
 "metadata": {
  "kernelspec": {
   "display_name": "Python 3",
   "language": "python",
   "name": "python3"
  },
  "language_info": {
   "codemirror_mode": {
    "name": "ipython",
    "version": 3
   },
   "file_extension": ".py",
   "mimetype": "text/x-python",
   "name": "python",
   "nbconvert_exporter": "python",
   "pygments_lexer": "ipython3",
   "version": "3.7.1"
  }
 },
 "nbformat": 4,
 "nbformat_minor": 2
}
