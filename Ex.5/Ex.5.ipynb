{
 "cells": [
  {
   "cell_type": "code",
   "execution_count": 8,
   "metadata": {},
   "outputs": [],
   "source": [
    "import pandas as pd\n",
    "#必要なデータを読み込む。ただし除外データはマクロ形式なので次で処理する\n",
    "\n",
    "df = pd.read_csv('C:/Users/otani/Desktop/exclude_work/Ex.5/analays.csv')\n",
    "tar = pd.read_csv('C:/Users/otani/Desktop/exclude_work/Ex.5/tar_list.csv')"
   ]
  },
  {
   "cell_type": "code",
   "execution_count": 9,
   "metadata": {},
   "outputs": [
    {
     "data": {
      "text/html": [
       "<div>\n",
       "<style scoped>\n",
       "    .dataframe tbody tr th:only-of-type {\n",
       "        vertical-align: middle;\n",
       "    }\n",
       "\n",
       "    .dataframe tbody tr th {\n",
       "        vertical-align: top;\n",
       "    }\n",
       "\n",
       "    .dataframe thead th {\n",
       "        text-align: right;\n",
       "    }\n",
       "</style>\n",
       "<table border=\"1\" class=\"dataframe\">\n",
       "  <thead>\n",
       "    <tr style=\"text-align: right;\">\n",
       "      <th></th>\n",
       "      <th>id</th>\n",
       "      <th>sex</th>\n",
       "      <th>birthday</th>\n",
       "      <th>age</th>\n",
       "      <th>agegrp</th>\n",
       "      <th>acquire_kkh</th>\n",
       "      <th>acquire_kkh2</th>\n",
       "      <th>loss_kkh</th>\n",
       "      <th>loss_kkh2</th>\n",
       "      <th>vis_prob</th>\n",
       "      <th>...</th>\n",
       "      <th>priority</th>\n",
       "      <th>past1</th>\n",
       "      <th>past2</th>\n",
       "      <th>past3</th>\n",
       "      <th>past4</th>\n",
       "      <th>past5</th>\n",
       "      <th>qty</th>\n",
       "      <th>receipt</th>\n",
       "      <th>segment</th>\n",
       "      <th>rm</th>\n",
       "    </tr>\n",
       "  </thead>\n",
       "  <tbody>\n",
       "    <tr>\n",
       "      <th>0</th>\n",
       "      <td>138255</td>\n",
       "      <td>male</td>\n",
       "      <td>1955/11/21</td>\n",
       "      <td>63</td>\n",
       "      <td>60-64</td>\n",
       "      <td>2015/8/11</td>\n",
       "      <td>2015</td>\n",
       "      <td>NaN</td>\n",
       "      <td>NaN</td>\n",
       "      <td>0.922775</td>\n",
       "      <td>...</td>\n",
       "      <td>1.0</td>\n",
       "      <td>1.0</td>\n",
       "      <td>1.0</td>\n",
       "      <td>1.0</td>\n",
       "      <td>0.0</td>\n",
       "      <td>0.0</td>\n",
       "      <td>3.0</td>\n",
       "      <td>2</td>\n",
       "      <td>B</td>\n",
       "      <td>0</td>\n",
       "    </tr>\n",
       "    <tr>\n",
       "      <th>1</th>\n",
       "      <td>410098</td>\n",
       "      <td>male</td>\n",
       "      <td>1952/1/2</td>\n",
       "      <td>67</td>\n",
       "      <td>65-69</td>\n",
       "      <td>2015/10/28</td>\n",
       "      <td>2015</td>\n",
       "      <td>NaN</td>\n",
       "      <td>NaN</td>\n",
       "      <td>0.922770</td>\n",
       "      <td>...</td>\n",
       "      <td>2.0</td>\n",
       "      <td>1.0</td>\n",
       "      <td>1.0</td>\n",
       "      <td>1.0</td>\n",
       "      <td>0.0</td>\n",
       "      <td>0.0</td>\n",
       "      <td>3.0</td>\n",
       "      <td>1</td>\n",
       "      <td>B</td>\n",
       "      <td>0</td>\n",
       "    </tr>\n",
       "    <tr>\n",
       "      <th>2</th>\n",
       "      <td>46010</td>\n",
       "      <td>male</td>\n",
       "      <td>1950/3/19</td>\n",
       "      <td>69</td>\n",
       "      <td>65-69</td>\n",
       "      <td>2009/4/1</td>\n",
       "      <td>2009</td>\n",
       "      <td>NaN</td>\n",
       "      <td>NaN</td>\n",
       "      <td>0.929673</td>\n",
       "      <td>...</td>\n",
       "      <td>3.0</td>\n",
       "      <td>1.0</td>\n",
       "      <td>1.0</td>\n",
       "      <td>1.0</td>\n",
       "      <td>1.0</td>\n",
       "      <td>0.0</td>\n",
       "      <td>4.0</td>\n",
       "      <td>2</td>\n",
       "      <td>D</td>\n",
       "      <td>0</td>\n",
       "    </tr>\n",
       "    <tr>\n",
       "      <th>3</th>\n",
       "      <td>1970</td>\n",
       "      <td>male</td>\n",
       "      <td>1952/9/27</td>\n",
       "      <td>66</td>\n",
       "      <td>65-69</td>\n",
       "      <td>2012/9/29</td>\n",
       "      <td>2012</td>\n",
       "      <td>NaN</td>\n",
       "      <td>NaN</td>\n",
       "      <td>0.929308</td>\n",
       "      <td>...</td>\n",
       "      <td>4.0</td>\n",
       "      <td>1.0</td>\n",
       "      <td>1.0</td>\n",
       "      <td>1.0</td>\n",
       "      <td>1.0</td>\n",
       "      <td>0.0</td>\n",
       "      <td>4.0</td>\n",
       "      <td>2</td>\n",
       "      <td>A</td>\n",
       "      <td>0</td>\n",
       "    </tr>\n",
       "    <tr>\n",
       "      <th>4</th>\n",
       "      <td>25089</td>\n",
       "      <td>female</td>\n",
       "      <td>1955/1/17</td>\n",
       "      <td>64</td>\n",
       "      <td>60-64</td>\n",
       "      <td>2015/4/1</td>\n",
       "      <td>2015</td>\n",
       "      <td>NaN</td>\n",
       "      <td>NaN</td>\n",
       "      <td>0.919146</td>\n",
       "      <td>...</td>\n",
       "      <td>5.0</td>\n",
       "      <td>1.0</td>\n",
       "      <td>1.0</td>\n",
       "      <td>1.0</td>\n",
       "      <td>0.0</td>\n",
       "      <td>0.0</td>\n",
       "      <td>3.0</td>\n",
       "      <td>2</td>\n",
       "      <td>B</td>\n",
       "      <td>1</td>\n",
       "    </tr>\n",
       "  </tbody>\n",
       "</table>\n",
       "<p>5 rows × 22 columns</p>\n",
       "</div>"
      ],
      "text/plain": [
       "       id     sex    birthday  age agegrp acquire_kkh  acquire_kkh2  loss_kkh  \\\n",
       "0  138255    male  1955/11/21   63  60-64   2015/8/11          2015       NaN   \n",
       "1  410098    male    1952/1/2   67  65-69  2015/10/28          2015       NaN   \n",
       "2   46010    male   1950/3/19   69  65-69    2009/4/1          2009       NaN   \n",
       "3    1970    male   1952/9/27   66  65-69   2012/9/29          2012       NaN   \n",
       "4   25089  female   1955/1/17   64  60-64    2015/4/1          2015       NaN   \n",
       "\n",
       "   loss_kkh2  vis_prob ... priority  past1  past2  past3  past4  past5  qty  \\\n",
       "0        NaN  0.922775 ...      1.0    1.0    1.0    1.0    0.0    0.0  3.0   \n",
       "1        NaN  0.922770 ...      2.0    1.0    1.0    1.0    0.0    0.0  3.0   \n",
       "2        NaN  0.929673 ...      3.0    1.0    1.0    1.0    1.0    0.0  4.0   \n",
       "3        NaN  0.929308 ...      4.0    1.0    1.0    1.0    1.0    0.0  4.0   \n",
       "4        NaN  0.919146 ...      5.0    1.0    1.0    1.0    0.0    0.0  3.0   \n",
       "\n",
       "   receipt  segment  rm  \n",
       "0        2        B   0  \n",
       "1        1        B   0  \n",
       "2        2        D   0  \n",
       "3        2        A   0  \n",
       "4        2        B   1  \n",
       "\n",
       "[5 rows x 22 columns]"
      ]
     },
     "execution_count": 9,
     "metadata": {},
     "output_type": "execute_result"
    }
   ],
   "source": [
    "df.head()"
   ]
  },
  {
   "cell_type": "code",
   "execution_count": 10,
   "metadata": {},
   "outputs": [
    {
     "data": {
      "text/html": [
       "<div>\n",
       "<style scoped>\n",
       "    .dataframe tbody tr th:only-of-type {\n",
       "        vertical-align: middle;\n",
       "    }\n",
       "\n",
       "    .dataframe tbody tr th {\n",
       "        vertical-align: top;\n",
       "    }\n",
       "\n",
       "    .dataframe thead th {\n",
       "        text-align: right;\n",
       "    }\n",
       "</style>\n",
       "<table border=\"1\" class=\"dataframe\">\n",
       "  <thead>\n",
       "    <tr style=\"text-align: right;\">\n",
       "      <th></th>\n",
       "      <th>id</th>\n",
       "    </tr>\n",
       "  </thead>\n",
       "  <tbody>\n",
       "    <tr>\n",
       "      <th>0</th>\n",
       "      <td>300474</td>\n",
       "    </tr>\n",
       "    <tr>\n",
       "      <th>1</th>\n",
       "      <td>7343</td>\n",
       "    </tr>\n",
       "    <tr>\n",
       "      <th>2</th>\n",
       "      <td>136572</td>\n",
       "    </tr>\n",
       "    <tr>\n",
       "      <th>3</th>\n",
       "      <td>4785</td>\n",
       "    </tr>\n",
       "    <tr>\n",
       "      <th>4</th>\n",
       "      <td>16575</td>\n",
       "    </tr>\n",
       "  </tbody>\n",
       "</table>\n",
       "</div>"
      ],
      "text/plain": [
       "       id\n",
       "0  300474\n",
       "1    7343\n",
       "2  136572\n",
       "3    4785\n",
       "4   16575"
      ]
     },
     "execution_count": 10,
     "metadata": {},
     "output_type": "execute_result"
    }
   ],
   "source": [
    "tar.head()"
   ]
  },
  {
   "cell_type": "code",
   "execution_count": 11,
   "metadata": {},
   "outputs": [],
   "source": [
    "#除外データをマクロからcsvファイルへと変換、ファイルに保存する\n",
    "ex = pd.read_excel('C:/Users/otani/Desktop/exclude_work/Ex.5/ex_list.xlsm', 'ex_list', index_col = None)\n",
    "ex.to_csv('C:/Users/otani/Desktop/exclude_work/Ex.5/ex_list.csv', encoding = 'utf-8')"
   ]
  },
  {
   "cell_type": "code",
   "execution_count": 12,
   "metadata": {
    "scrolled": true
   },
   "outputs": [
    {
     "data": {
      "text/html": [
       "<div>\n",
       "<style scoped>\n",
       "    .dataframe tbody tr th:only-of-type {\n",
       "        vertical-align: middle;\n",
       "    }\n",
       "\n",
       "    .dataframe tbody tr th {\n",
       "        vertical-align: top;\n",
       "    }\n",
       "\n",
       "    .dataframe thead th {\n",
       "        text-align: right;\n",
       "    }\n",
       "</style>\n",
       "<table border=\"1\" class=\"dataframe\">\n",
       "  <thead>\n",
       "    <tr style=\"text-align: right;\">\n",
       "      <th></th>\n",
       "      <th>Unnamed: 0</th>\n",
       "      <th>今年度受診者</th>\n",
       "      <th>人間ドック</th>\n",
       "      <th>死亡者</th>\n",
       "      <th>国保喪失者</th>\n",
       "    </tr>\n",
       "  </thead>\n",
       "  <tbody>\n",
       "    <tr>\n",
       "      <th>0</th>\n",
       "      <td>0</td>\n",
       "      <td>17632</td>\n",
       "      <td>17948.0</td>\n",
       "      <td>41206.0</td>\n",
       "      <td>15548.0</td>\n",
       "    </tr>\n",
       "    <tr>\n",
       "      <th>1</th>\n",
       "      <td>1</td>\n",
       "      <td>408988</td>\n",
       "      <td>16223.0</td>\n",
       "      <td>12709.0</td>\n",
       "      <td>27397.0</td>\n",
       "    </tr>\n",
       "    <tr>\n",
       "      <th>2</th>\n",
       "      <td>2</td>\n",
       "      <td>6005247</td>\n",
       "      <td>410778.0</td>\n",
       "      <td>848.0</td>\n",
       "      <td>7108.0</td>\n",
       "    </tr>\n",
       "    <tr>\n",
       "      <th>3</th>\n",
       "      <td>3</td>\n",
       "      <td>38699</td>\n",
       "      <td>402529.0</td>\n",
       "      <td>329889.0</td>\n",
       "      <td>2355.0</td>\n",
       "    </tr>\n",
       "    <tr>\n",
       "      <th>4</th>\n",
       "      <td>4</td>\n",
       "      <td>28018</td>\n",
       "      <td>145003.0</td>\n",
       "      <td>14750.0</td>\n",
       "      <td>15198.0</td>\n",
       "    </tr>\n",
       "  </tbody>\n",
       "</table>\n",
       "</div>"
      ],
      "text/plain": [
       "   Unnamed: 0   今年度受診者     人間ドック       死亡者    国保喪失者\n",
       "0           0    17632   17948.0   41206.0  15548.0\n",
       "1           1   408988   16223.0   12709.0  27397.0\n",
       "2           2  6005247  410778.0     848.0   7108.0\n",
       "3           3    38699  402529.0  329889.0   2355.0\n",
       "4           4    28018  145003.0   14750.0  15198.0"
      ]
     },
     "execution_count": 12,
     "metadata": {},
     "output_type": "execute_result"
    }
   ],
   "source": [
    "#除外データを読み込む\n",
    "ex1 = pd.read_csv('C:/Users/otani/Desktop/exclude_work/Ex.5/ex_list.csv')\n",
    "ex1.head()"
   ]
  },
  {
   "cell_type": "code",
   "execution_count": 13,
   "metadata": {},
   "outputs": [],
   "source": [
    "#culumnsの名前を変える。\n",
    "ex1 = ex1.rename(columns = {'今年度受診者':'id_1', '人間ドック':'id_2', '死亡者':'id_3','国保喪失者':'id_4'})"
   ]
  },
  {
   "cell_type": "code",
   "execution_count": 18,
   "metadata": {},
   "outputs": [],
   "source": [
    "#対象者リストから除外データを除く\n",
    "df = df[~df['id'].isin(ex1['id_1'])]\n",
    "df = df[~df['id'].isin(ex1['id_2'])]\n",
    "df = df[~df['id'].isin(ex1['id_3'])]\n",
    "df = df[~df['id'].isin(ex1['id_4'])]\n",
    "#次に宛名データにあるものだけを抽出\n",
    "forwarder_list = df[df['id'].isin(tar['id'])]"
   ]
  },
  {
   "cell_type": "code",
   "execution_count": 19,
   "metadata": {},
   "outputs": [
    {
     "data": {
      "text/plain": [
       "set()"
      ]
     },
     "execution_count": 19,
     "metadata": {},
     "output_type": "execute_result"
    }
   ],
   "source": [
    "#発送者データと除外データに共通のidが含まれていないか確認\n",
    "set(forwarder_list['id']) & set(ex1['id_1'])"
   ]
  },
  {
   "cell_type": "code",
   "execution_count": 20,
   "metadata": {},
   "outputs": [
    {
     "data": {
      "text/plain": [
       "set()"
      ]
     },
     "execution_count": 20,
     "metadata": {},
     "output_type": "execute_result"
    }
   ],
   "source": [
    "set(forwarder_list['id']) & set(ex1['id_2'])"
   ]
  },
  {
   "cell_type": "code",
   "execution_count": 21,
   "metadata": {},
   "outputs": [
    {
     "data": {
      "text/plain": [
       "set()"
      ]
     },
     "execution_count": 21,
     "metadata": {},
     "output_type": "execute_result"
    }
   ],
   "source": [
    "set(forwarder_list['id']) & set(ex1['id_3'])"
   ]
  },
  {
   "cell_type": "code",
   "execution_count": 23,
   "metadata": {},
   "outputs": [
    {
     "data": {
      "text/plain": [
       "set()"
      ]
     },
     "execution_count": 23,
     "metadata": {},
     "output_type": "execute_result"
    }
   ],
   "source": [
    "set(forwarder_list['id']) & set(ex1['id_4'])"
   ]
  },
  {
   "cell_type": "code",
   "execution_count": 24,
   "metadata": {},
   "outputs": [],
   "source": [
    "forwarder_list.to_csv('C:/Users/otani/Desktop/exclude_work/Ex.5/forwarder_list.csv')"
   ]
  },
  {
   "cell_type": "code",
   "execution_count": null,
   "metadata": {},
   "outputs": [],
   "source": []
  }
 ],
 "metadata": {
  "kernelspec": {
   "display_name": "Python 3",
   "language": "python",
   "name": "python3"
  },
  "language_info": {
   "codemirror_mode": {
    "name": "ipython",
    "version": 3
   },
   "file_extension": ".py",
   "mimetype": "text/x-python",
   "name": "python",
   "nbconvert_exporter": "python",
   "pygments_lexer": "ipython3",
   "version": "3.7.1"
  }
 },
 "nbformat": 4,
 "nbformat_minor": 2
}
