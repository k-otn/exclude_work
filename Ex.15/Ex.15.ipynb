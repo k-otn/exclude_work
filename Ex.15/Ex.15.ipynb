{
 "cells": [
  {
   "cell_type": "code",
   "execution_count": 2,
   "metadata": {},
   "outputs": [
    {
     "data": {
      "text/plain": [
       "6887"
      ]
     },
     "execution_count": 2,
     "metadata": {},
     "output_type": "execute_result"
    }
   ],
   "source": [
    "import pandas as pd\n",
    "#分析完了データ読み込む\n",
    "df = pd.read_csv('C:/Users/otani/Desktop/python/exclude_work/Ex.15/analays.csv')\n",
    "len(df)"
   ]
  },
  {
   "cell_type": "code",
   "execution_count": 3,
   "metadata": {},
   "outputs": [],
   "source": [
    "#1つ目の除外データを読み込む\n",
    "ex1 = pd.read_excel('C:/Users/otani/Desktop/python/exclude_work/Ex.15/ex_list1.xlsx','Sheet1', index_col = None)\n",
    "ex1.to_csv('C:/Users/otani/Desktop/python/exclude_work/Ex.15/ex_list1.csv', encoding = 'utf-8')"
   ]
  },
  {
   "cell_type": "code",
   "execution_count": 4,
   "metadata": {},
   "outputs": [
    {
     "data": {
      "text/html": [
       "<div>\n",
       "<style scoped>\n",
       "    .dataframe tbody tr th:only-of-type {\n",
       "        vertical-align: middle;\n",
       "    }\n",
       "\n",
       "    .dataframe tbody tr th {\n",
       "        vertical-align: top;\n",
       "    }\n",
       "\n",
       "    .dataframe thead th {\n",
       "        text-align: right;\n",
       "    }\n",
       "</style>\n",
       "<table border=\"1\" class=\"dataframe\">\n",
       "  <thead>\n",
       "    <tr style=\"text-align: right;\">\n",
       "      <th></th>\n",
       "      <th>Unnamed: 0</th>\n",
       "      <th>個人番号</th>\n",
       "    </tr>\n",
       "  </thead>\n",
       "  <tbody>\n",
       "    <tr>\n",
       "      <th>0</th>\n",
       "      <td>0</td>\n",
       "      <td>24258</td>\n",
       "    </tr>\n",
       "    <tr>\n",
       "      <th>1</th>\n",
       "      <td>1</td>\n",
       "      <td>30786</td>\n",
       "    </tr>\n",
       "    <tr>\n",
       "      <th>2</th>\n",
       "      <td>2</td>\n",
       "      <td>36464</td>\n",
       "    </tr>\n",
       "    <tr>\n",
       "      <th>3</th>\n",
       "      <td>3</td>\n",
       "      <td>27058</td>\n",
       "    </tr>\n",
       "    <tr>\n",
       "      <th>4</th>\n",
       "      <td>4</td>\n",
       "      <td>3390</td>\n",
       "    </tr>\n",
       "  </tbody>\n",
       "</table>\n",
       "</div>"
      ],
      "text/plain": [
       "   Unnamed: 0   個人番号\n",
       "0           0  24258\n",
       "1           1  30786\n",
       "2           2  36464\n",
       "3           3  27058\n",
       "4           4   3390"
      ]
     },
     "execution_count": 4,
     "metadata": {},
     "output_type": "execute_result"
    }
   ],
   "source": [
    "ex1 = pd.read_csv('C:/Users/otani/Desktop/python/exclude_work/Ex.15/ex_list1.csv')\n",
    "ex1.head()"
   ]
  },
  {
   "cell_type": "code",
   "execution_count": 5,
   "metadata": {},
   "outputs": [],
   "source": [
    "#culumnsの名前を変える。\n",
    "ex1 = ex1.rename(columns = {'個人番号':'id'})"
   ]
  },
  {
   "cell_type": "code",
   "execution_count": 6,
   "metadata": {},
   "outputs": [],
   "source": [
    "#2つ目の除外データのうち、国保資格喪失者を読み込む\n",
    "ex2 = pd.read_excel('C:/Users/otani/Desktop/python/exclude_work/Ex.15/ex_list2.xlsx','国保資格喪失者', index_col = None)\n",
    "ex3 = pd.read_excel('C:/Users/otani/Desktop/python/exclude_work/Ex.15/ex_list2.xlsx','施設入居者', index_col = None)\n",
    "ex4 = pd.read_excel('C:/Users/otani/Desktop/python/exclude_work/Ex.15/ex_list2.xlsx','死亡者', index_col = None)"
   ]
  },
  {
   "cell_type": "code",
   "execution_count": 69,
   "metadata": {},
   "outputs": [],
   "source": [
    "ex2.to_csv('C:/Users/otani/Desktop/exclude_work/Ex.15/ex_list2.csv', encoding = 'utf-8')\n",
    "ex3.to_csv('C:/Users/otani/Desktop/exclude_work/Ex.15/ex_list3.csv', encoding = 'utf-8')\n",
    "ex4.to_csv('C:/Users/otani/Desktop/exclude_work/Ex.15/ex_list4.csv', encoding = 'utf-8')"
   ]
  },
  {
   "cell_type": "code",
   "execution_count": 70,
   "metadata": {},
   "outputs": [
    {
     "data": {
      "text/html": [
       "<div>\n",
       "<style scoped>\n",
       "    .dataframe tbody tr th:only-of-type {\n",
       "        vertical-align: middle;\n",
       "    }\n",
       "\n",
       "    .dataframe tbody tr th {\n",
       "        vertical-align: top;\n",
       "    }\n",
       "\n",
       "    .dataframe thead th {\n",
       "        text-align: right;\n",
       "    }\n",
       "</style>\n",
       "<table border=\"1\" class=\"dataframe\">\n",
       "  <thead>\n",
       "    <tr style=\"text-align: right;\">\n",
       "      <th></th>\n",
       "      <th>131698</th>\n",
       "    </tr>\n",
       "  </thead>\n",
       "  <tbody>\n",
       "    <tr>\n",
       "      <th>0</th>\n",
       "      <td>84</td>\n",
       "    </tr>\n",
       "    <tr>\n",
       "      <th>1</th>\n",
       "      <td>29842</td>\n",
       "    </tr>\n",
       "    <tr>\n",
       "      <th>2</th>\n",
       "      <td>338180</td>\n",
       "    </tr>\n",
       "    <tr>\n",
       "      <th>3</th>\n",
       "      <td>7885</td>\n",
       "    </tr>\n",
       "    <tr>\n",
       "      <th>4</th>\n",
       "      <td>18696</td>\n",
       "    </tr>\n",
       "  </tbody>\n",
       "</table>\n",
       "</div>"
      ],
      "text/plain": [
       "   131698\n",
       "0      84\n",
       "1   29842\n",
       "2  338180\n",
       "3    7885\n",
       "4   18696"
      ]
     },
     "execution_count": 70,
     "metadata": {},
     "output_type": "execute_result"
    }
   ],
   "source": [
    "#ex2と4はcolumns名が個人番号、ex3は数値\n",
    "ex3.head()"
   ]
  },
  {
   "cell_type": "code",
   "execution_count": 71,
   "metadata": {},
   "outputs": [],
   "source": [
    "ex2 = ex2.rename(columns = {'個人番号':'id'})\n",
    "ex4 = ex4.rename(columns = {'個人番号':'id'})\n",
    "#ex3については数値を文字列に変えてからidへ変更する"
   ]
  },
  {
   "cell_type": "code",
   "execution_count": 81,
   "metadata": {},
   "outputs": [
    {
     "data": {
      "text/html": [
       "<div>\n",
       "<style scoped>\n",
       "    .dataframe tbody tr th:only-of-type {\n",
       "        vertical-align: middle;\n",
       "    }\n",
       "\n",
       "    .dataframe tbody tr th {\n",
       "        vertical-align: top;\n",
       "    }\n",
       "\n",
       "    .dataframe thead th {\n",
       "        text-align: right;\n",
       "    }\n",
       "</style>\n",
       "<table border=\"1\" class=\"dataframe\">\n",
       "  <thead>\n",
       "    <tr style=\"text-align: right;\">\n",
       "      <th></th>\n",
       "      <th>id</th>\n",
       "    </tr>\n",
       "  </thead>\n",
       "  <tbody>\n",
       "    <tr>\n",
       "      <th>0</th>\n",
       "      <td>84</td>\n",
       "    </tr>\n",
       "    <tr>\n",
       "      <th>1</th>\n",
       "      <td>29842</td>\n",
       "    </tr>\n",
       "    <tr>\n",
       "      <th>2</th>\n",
       "      <td>338180</td>\n",
       "    </tr>\n",
       "    <tr>\n",
       "      <th>3</th>\n",
       "      <td>7885</td>\n",
       "    </tr>\n",
       "    <tr>\n",
       "      <th>4</th>\n",
       "      <td>18696</td>\n",
       "    </tr>\n",
       "  </tbody>\n",
       "</table>\n",
       "</div>"
      ],
      "text/plain": [
       "       id\n",
       "0      84\n",
       "1   29842\n",
       "2  338180\n",
       "3    7885\n",
       "4   18696"
      ]
     },
     "execution_count": 81,
     "metadata": {},
     "output_type": "execute_result"
    }
   ],
   "source": [
    "ex3_1 = ex3.rename(columns = lambda x: 'id')\n",
    "ex3_1.head()"
   ]
  },
  {
   "cell_type": "code",
   "execution_count": 82,
   "metadata": {},
   "outputs": [
    {
     "data": {
      "text/plain": [
       "487"
      ]
     },
     "execution_count": 82,
     "metadata": {},
     "output_type": "execute_result"
    }
   ],
   "source": [
    "#対象者データdfに対して除外データex1～ex4までを一つずつmergeする。\n",
    "ex1_merge = pd.merge(df, ex1, on = 'id', how = 'right')\n",
    "len(ex1_merge)"
   ]
  },
  {
   "cell_type": "code",
   "execution_count": 92,
   "metadata": {},
   "outputs": [
    {
     "data": {
      "text/plain": [
       "141"
      ]
     },
     "execution_count": 92,
     "metadata": {},
     "output_type": "execute_result"
    }
   ],
   "source": [
    "ex2_merge = pd.merge(df, ex2, on = 'id', how = 'right')\n",
    "len(ex2_merge)"
   ]
  },
  {
   "cell_type": "code",
   "execution_count": 84,
   "metadata": {},
   "outputs": [
    {
     "data": {
      "text/plain": [
       "150"
      ]
     },
     "execution_count": 84,
     "metadata": {},
     "output_type": "execute_result"
    }
   ],
   "source": [
    "ex3_merge = pd.merge(df, ex3_1, on = 'id', how = 'right')\n",
    "len(ex3_merge)"
   ]
  },
  {
   "cell_type": "code",
   "execution_count": 89,
   "metadata": {},
   "outputs": [
    {
     "data": {
      "text/plain": [
       "131"
      ]
     },
     "execution_count": 89,
     "metadata": {},
     "output_type": "execute_result"
    }
   ],
   "source": [
    "ex4_merge = pd.merge(df, ex4, on = 'id', how = 'right')\n",
    "len(ex4)"
   ]
  },
  {
   "cell_type": "code",
   "execution_count": 98,
   "metadata": {},
   "outputs": [
    {
     "data": {
      "text/html": [
       "<div>\n",
       "<style scoped>\n",
       "    .dataframe tbody tr th:only-of-type {\n",
       "        vertical-align: middle;\n",
       "    }\n",
       "\n",
       "    .dataframe tbody tr th {\n",
       "        vertical-align: top;\n",
       "    }\n",
       "\n",
       "    .dataframe thead th {\n",
       "        text-align: right;\n",
       "    }\n",
       "</style>\n",
       "<table border=\"1\" class=\"dataframe\">\n",
       "  <thead>\n",
       "    <tr style=\"text-align: right;\">\n",
       "      <th></th>\n",
       "      <th>id</th>\n",
       "      <th>sex</th>\n",
       "      <th>birthday</th>\n",
       "      <th>age</th>\n",
       "      <th>agegrp</th>\n",
       "      <th>acquire_kkh</th>\n",
       "      <th>acquire_kkh2</th>\n",
       "      <th>loss_kkh</th>\n",
       "      <th>loss_kkh2</th>\n",
       "      <th>vis_prob</th>\n",
       "      <th>...</th>\n",
       "      <th>priority</th>\n",
       "      <th>past1</th>\n",
       "      <th>past2</th>\n",
       "      <th>past3</th>\n",
       "      <th>past4</th>\n",
       "      <th>past5</th>\n",
       "      <th>qty</th>\n",
       "      <th>receipt</th>\n",
       "      <th>segment</th>\n",
       "      <th>rm</th>\n",
       "    </tr>\n",
       "  </thead>\n",
       "  <tbody>\n",
       "    <tr>\n",
       "      <th>0</th>\n",
       "      <td>138255</td>\n",
       "      <td>male</td>\n",
       "      <td>1955/11/21</td>\n",
       "      <td>63</td>\n",
       "      <td>60-64</td>\n",
       "      <td>2015/8/11</td>\n",
       "      <td>2015</td>\n",
       "      <td>NaN</td>\n",
       "      <td>NaN</td>\n",
       "      <td>0.922775</td>\n",
       "      <td>...</td>\n",
       "      <td>1.0</td>\n",
       "      <td>1.0</td>\n",
       "      <td>1.0</td>\n",
       "      <td>1.0</td>\n",
       "      <td>0.0</td>\n",
       "      <td>0.0</td>\n",
       "      <td>3.0</td>\n",
       "      <td>2</td>\n",
       "      <td>B</td>\n",
       "      <td>0</td>\n",
       "    </tr>\n",
       "    <tr>\n",
       "      <th>1</th>\n",
       "      <td>410098</td>\n",
       "      <td>male</td>\n",
       "      <td>1952/1/2</td>\n",
       "      <td>67</td>\n",
       "      <td>65-69</td>\n",
       "      <td>2015/10/28</td>\n",
       "      <td>2015</td>\n",
       "      <td>NaN</td>\n",
       "      <td>NaN</td>\n",
       "      <td>0.922770</td>\n",
       "      <td>...</td>\n",
       "      <td>2.0</td>\n",
       "      <td>1.0</td>\n",
       "      <td>1.0</td>\n",
       "      <td>1.0</td>\n",
       "      <td>0.0</td>\n",
       "      <td>0.0</td>\n",
       "      <td>3.0</td>\n",
       "      <td>1</td>\n",
       "      <td>B</td>\n",
       "      <td>0</td>\n",
       "    </tr>\n",
       "    <tr>\n",
       "      <th>2</th>\n",
       "      <td>46010</td>\n",
       "      <td>male</td>\n",
       "      <td>1950/3/19</td>\n",
       "      <td>69</td>\n",
       "      <td>65-69</td>\n",
       "      <td>2009/4/1</td>\n",
       "      <td>2009</td>\n",
       "      <td>NaN</td>\n",
       "      <td>NaN</td>\n",
       "      <td>0.929673</td>\n",
       "      <td>...</td>\n",
       "      <td>3.0</td>\n",
       "      <td>1.0</td>\n",
       "      <td>1.0</td>\n",
       "      <td>1.0</td>\n",
       "      <td>1.0</td>\n",
       "      <td>0.0</td>\n",
       "      <td>4.0</td>\n",
       "      <td>2</td>\n",
       "      <td>D</td>\n",
       "      <td>0</td>\n",
       "    </tr>\n",
       "    <tr>\n",
       "      <th>3</th>\n",
       "      <td>1970</td>\n",
       "      <td>male</td>\n",
       "      <td>1952/9/27</td>\n",
       "      <td>66</td>\n",
       "      <td>65-69</td>\n",
       "      <td>2012/9/29</td>\n",
       "      <td>2012</td>\n",
       "      <td>NaN</td>\n",
       "      <td>NaN</td>\n",
       "      <td>0.929308</td>\n",
       "      <td>...</td>\n",
       "      <td>4.0</td>\n",
       "      <td>1.0</td>\n",
       "      <td>1.0</td>\n",
       "      <td>1.0</td>\n",
       "      <td>1.0</td>\n",
       "      <td>0.0</td>\n",
       "      <td>4.0</td>\n",
       "      <td>2</td>\n",
       "      <td>A</td>\n",
       "      <td>0</td>\n",
       "    </tr>\n",
       "    <tr>\n",
       "      <th>5</th>\n",
       "      <td>37619</td>\n",
       "      <td>female</td>\n",
       "      <td>1955/2/12</td>\n",
       "      <td>64</td>\n",
       "      <td>60-64</td>\n",
       "      <td>2014/12/22</td>\n",
       "      <td>2014</td>\n",
       "      <td>NaN</td>\n",
       "      <td>NaN</td>\n",
       "      <td>0.912276</td>\n",
       "      <td>...</td>\n",
       "      <td>7.0</td>\n",
       "      <td>1.0</td>\n",
       "      <td>1.0</td>\n",
       "      <td>1.0</td>\n",
       "      <td>0.0</td>\n",
       "      <td>0.0</td>\n",
       "      <td>3.0</td>\n",
       "      <td>2</td>\n",
       "      <td>D</td>\n",
       "      <td>0</td>\n",
       "    </tr>\n",
       "  </tbody>\n",
       "</table>\n",
       "<p>5 rows × 22 columns</p>\n",
       "</div>"
      ],
      "text/plain": [
       "       id     sex    birthday  age agegrp acquire_kkh  acquire_kkh2  loss_kkh  \\\n",
       "0  138255    male  1955/11/21   63  60-64   2015/8/11          2015       NaN   \n",
       "1  410098    male    1952/1/2   67  65-69  2015/10/28          2015       NaN   \n",
       "2   46010    male   1950/3/19   69  65-69    2009/4/1          2009       NaN   \n",
       "3    1970    male   1952/9/27   66  65-69   2012/9/29          2012       NaN   \n",
       "5   37619  female   1955/2/12   64  60-64  2014/12/22          2014       NaN   \n",
       "\n",
       "   loss_kkh2  vis_prob ... priority  past1  past2  past3  past4  past5  qty  \\\n",
       "0        NaN  0.922775 ...      1.0    1.0    1.0    1.0    0.0    0.0  3.0   \n",
       "1        NaN  0.922770 ...      2.0    1.0    1.0    1.0    0.0    0.0  3.0   \n",
       "2        NaN  0.929673 ...      3.0    1.0    1.0    1.0    1.0    0.0  4.0   \n",
       "3        NaN  0.929308 ...      4.0    1.0    1.0    1.0    1.0    0.0  4.0   \n",
       "5        NaN  0.912276 ...      7.0    1.0    1.0    1.0    0.0    0.0  3.0   \n",
       "\n",
       "   receipt  segment  rm  \n",
       "0        2        B   0  \n",
       "1        1        B   0  \n",
       "2        2        D   0  \n",
       "3        2        A   0  \n",
       "5        2        D   0  \n",
       "\n",
       "[5 rows x 22 columns]"
      ]
     },
     "execution_count": 98,
     "metadata": {},
     "output_type": "execute_result"
    }
   ],
   "source": [
    "#対象者リストから除外データを除く\n",
    "df = df[~df['id'].isin(ex1_merge['id'])]\n",
    "df = df[~df['id'].isin(ex2_merge['id'])]\n",
    "df = df[~df['id'].isin(ex3_merge['id'])]\n",
    "df = df[~df['id'].isin(ex4_merge['id'])]\n",
    "df.head()"
   ]
  },
  {
   "cell_type": "code",
   "execution_count": 99,
   "metadata": {},
   "outputs": [],
   "source": [
    "#対象者を読み込む\n",
    "tar = pd.read_csv('C:/Users/otani/Desktop/exclude_work/Ex.15/tar_list.csv')"
   ]
  },
  {
   "cell_type": "code",
   "execution_count": 100,
   "metadata": {},
   "outputs": [
    {
     "data": {
      "text/plain": [
       "4843"
      ]
     },
     "execution_count": 100,
     "metadata": {},
     "output_type": "execute_result"
    }
   ],
   "source": [
    "#抽出\n",
    "forwarder_list = df[df['id'].isin(tar['id'])]\n",
    "len(forwarder_list)"
   ]
  },
  {
   "cell_type": "code",
   "execution_count": 101,
   "metadata": {},
   "outputs": [
    {
     "data": {
      "text/plain": [
       "set()"
      ]
     },
     "execution_count": 101,
     "metadata": {},
     "output_type": "execute_result"
    }
   ],
   "source": [
    "#発送者データと除外データに共通のidが含まれていないか確認\n",
    "set(forwarder_list['id']) & set(ex1_merge['id'])"
   ]
  },
  {
   "cell_type": "code",
   "execution_count": 102,
   "metadata": {},
   "outputs": [
    {
     "data": {
      "text/plain": [
       "set()"
      ]
     },
     "execution_count": 102,
     "metadata": {},
     "output_type": "execute_result"
    }
   ],
   "source": [
    "set(forwarder_list['id']) & set(ex2_merge['id'])"
   ]
  },
  {
   "cell_type": "code",
   "execution_count": 103,
   "metadata": {},
   "outputs": [
    {
     "data": {
      "text/plain": [
       "set()"
      ]
     },
     "execution_count": 103,
     "metadata": {},
     "output_type": "execute_result"
    }
   ],
   "source": [
    "set(forwarder_list['id']) & set(ex3_merge['id'])"
   ]
  },
  {
   "cell_type": "code",
   "execution_count": 104,
   "metadata": {},
   "outputs": [
    {
     "data": {
      "text/plain": [
       "set()"
      ]
     },
     "execution_count": 104,
     "metadata": {},
     "output_type": "execute_result"
    }
   ],
   "source": [
    "set(forwarder_list['id']) & set(ex4_merge['id'])"
   ]
  },
  {
   "cell_type": "code",
   "execution_count": 105,
   "metadata": {},
   "outputs": [
    {
     "data": {
      "text/plain": [
       "True"
      ]
     },
     "execution_count": 105,
     "metadata": {},
     "output_type": "execute_result"
    }
   ],
   "source": [
    "#発送者データが宛名データに全て含まれているか確認\n",
    "set(forwarder_list['id']) <= set(tar['id'])"
   ]
  },
  {
   "cell_type": "code",
   "execution_count": 106,
   "metadata": {},
   "outputs": [],
   "source": [
    "#発送者リストをforwarder_listとして保存\n",
    "forwarder_list.to_csv('C:/Users/otani/Desktop/exclude_work/Ex.15/forwarder_list.csv')"
   ]
  },
  {
   "cell_type": "code",
   "execution_count": null,
   "metadata": {},
   "outputs": [],
   "source": []
  }
 ],
 "metadata": {
  "kernelspec": {
   "display_name": "Python 3",
   "language": "python",
   "name": "python3"
  },
  "language_info": {
   "codemirror_mode": {
    "name": "ipython",
    "version": 3
   },
   "file_extension": ".py",
   "mimetype": "text/x-python",
   "name": "python",
   "nbconvert_exporter": "python",
   "pygments_lexer": "ipython3",
   "version": "3.7.1"
  }
 },
 "nbformat": 4,
 "nbformat_minor": 2
}
